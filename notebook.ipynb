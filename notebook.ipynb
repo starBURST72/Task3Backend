{
 "cells": [
  {
   "cell_type": "code",
   "execution_count": 5,
   "id": "initial_id",
   "metadata": {
    "collapsed": true,
    "ExecuteTime": {
     "end_time": "2024-04-30T12:25:42.223670Z",
     "start_time": "2024-04-30T12:25:39.538376Z"
    }
   },
   "outputs": [
    {
     "name": "stdout",
     "output_type": "stream",
     "text": [
      "Введите строку\n",
      "Success\n"
     ]
    }
   ],
   "source": [
    "class Stack:\n",
    "    def __init__(self):\n",
    "        self.items = []\n",
    "\n",
    "    def push(self, item):\n",
    "        self.items.append(item)\n",
    "\n",
    "    def pop(self):\n",
    "        return self.items.pop()\n",
    "\n",
    "    def is_empty(self):\n",
    "        return len(self.items) == 0\n",
    "\n",
    "    def peek(self):\n",
    "        if not self.is_empty():\n",
    "            return self.items[-1]\n",
    "        else:\n",
    "            return None\n",
    "\n",
    "\n",
    "def check_brackets(text):\n",
    "    stack = Stack()\n",
    "    opening_brackets = \"([{\"\n",
    "    closing_brackets = \")]}\"\n",
    "    bracket_pairs = {')': '(', ']': '[', '}': '{'}\n",
    "\n",
    "    for index, char in enumerate(text, 1):\n",
    "        if char in opening_brackets:\n",
    "            stack.push((char, index))\n",
    "        elif char in closing_brackets:\n",
    "            if stack.is_empty() or bracket_pairs[char] != stack.peek()[0]:\n",
    "                return index\n",
    "            else:\n",
    "                stack.pop()\n",
    "\n",
    "    if stack.is_empty():\n",
    "        return \"Success\"\n",
    "    else:\n",
    "        return stack.peek()[1]\n",
    "\n",
    "\n",
    "def main():\n",
    "    print(\"Введите строку\")\n",
    "    text = input().strip()\n",
    "    if not text:\n",
    "        print(\"Пустая строка\")\n",
    "    else:\n",
    "        result = check_brackets(text)\n",
    "        print(result)\n",
    "\n",
    "\n",
    "if __name__ == \"__main__\":\n",
    "    main()\n"
   ]
  },
  {
   "cell_type": "code",
   "outputs": [
    {
     "name": "stdout",
     "output_type": "stream",
     "text": [
      "Введите строку\n",
      "16\n"
     ]
    }
   ],
   "source": [
    " main()"
   ],
   "metadata": {
    "collapsed": false,
    "ExecuteTime": {
     "end_time": "2024-04-30T12:23:46.353373Z",
     "start_time": "2024-04-30T12:23:38.724531Z"
    }
   },
   "id": "e1d9fd279b479235",
   "execution_count": 2
  },
  {
   "cell_type": "code",
   "outputs": [
    {
     "name": "stdout",
     "output_type": "stream",
     "text": [
      "Введите строку\n",
      "Пустая строка\n"
     ]
    }
   ],
   "source": [
    "main()"
   ],
   "metadata": {
    "collapsed": false,
    "ExecuteTime": {
     "end_time": "2024-04-30T12:25:02.486129Z",
     "start_time": "2024-04-30T12:25:00.721716Z"
    }
   },
   "id": "693151cfba654b0c",
   "execution_count": 4
  },
  {
   "cell_type": "code",
   "outputs": [],
   "source": [],
   "metadata": {
    "collapsed": false
   },
   "id": "50b21e17a395f1a3"
  }
 ],
 "metadata": {
  "kernelspec": {
   "display_name": "Python 3",
   "language": "python",
   "name": "python3"
  },
  "language_info": {
   "codemirror_mode": {
    "name": "ipython",
    "version": 2
   },
   "file_extension": ".py",
   "mimetype": "text/x-python",
   "name": "python",
   "nbconvert_exporter": "python",
   "pygments_lexer": "ipython2",
   "version": "2.7.6"
  }
 },
 "nbformat": 4,
 "nbformat_minor": 5
}
